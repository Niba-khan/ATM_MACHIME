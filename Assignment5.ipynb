{
  "nbformat": 4,
  "nbformat_minor": 0,
  "metadata": {
    "colab": {
      "provenance": [],
      "authorship_tag": "ABX9TyNRQRS+vCouhRmE91o0GwDx",
      "include_colab_link": true
    },
    "kernelspec": {
      "name": "python3",
      "display_name": "Python 3"
    },
    "language_info": {
      "name": "python"
    }
  },
  "cells": [
    {
      "cell_type": "markdown",
      "metadata": {
        "id": "view-in-github",
        "colab_type": "text"
      },
      "source": [
        "<a href=\"https://colab.research.google.com/github/Niba-khan/ATM_MACHIME/blob/main/Assignment5.ipynb\" target=\"_parent\"><img src=\"https://colab.research.google.com/assets/colab-badge.svg\" alt=\"Open In Colab\"/></a>"
      ]
    },
    {
      "cell_type": "markdown",
      "source": [
        "# ***Python OOP Assignment:05: ATM Machine ***\n",
        "\n",
        "*Overview\n",
        "In this assignment, you will create an object-oriented ATM (Automated Teller\n",
        "Machine) simulation in Python. You'll implement a class with methods to\n",
        "handle basic banking operations.\n",
        "Requirements\n",
        "\n",
        "Class Definition\n",
        "\n",
        "Create a class named ATM with the following attributes:\n",
        " Balance: Initial value of 5000 rupees\n",
        " Pin: Default value of 1234\n",
        "Required Methods\n",
        "1.\n",
        "check_pin(input_pin): Verify if the entered PIN matches the stored PIN\n",
        "2. check_balance(): Display the current account balance\n",
        "3. deposit(amount): Add money to the account (requires valid PIN)\n",
        "4. withdraw(amount): Remove money from the account (requires valid PIN\n",
        "and sufficient balance)\n",
        "5. exit(): Terminate the program\n",
        "\n",
        "Validation Rules\n",
        "\n",
        " PIN must be validated before allowing deposits or withdrawals\n",
        "\n",
        " Prevent negative deposit amounts\n",
        "\n",
        " Prevent withdrawals that exceed available balance\n",
        "\n",
        " Handle invalid user inputs appropriately *\n",
        "\n"
      ],
      "metadata": {
        "id": "6gSNXmppW12K"
      }
    },
    {
      "cell_type": "code",
      "source": [
        "#ATM Machine\n",
        "\n",
        "class ATM:\n",
        "    def __init__(self):\n",
        "        self.balance = 5000\n",
        "        self.pin = \"1234\"\n",
        "\n",
        "    def display_balance(self):\n",
        "        print(f\"Your balance: Rs {self.balance}\")\n",
        "\n",
        "    def deposit(self, amount):\n",
        "        if amount > 0:\n",
        "            self.balance += amount\n",
        "            print(f\"Deposited Rs {amount}. New balance: Rs {self.balance}\")\n",
        "        else:\n",
        "            print(\"Invalid deposit amount.\")\n",
        "\n",
        "    def withdraw(self, amount):\n",
        "        if 0 < amount <= self.balance:\n",
        "            self.balance -= amount\n",
        "            print(f\"Withdrew Rs {amount}. New balance: Rs {self.balance}\")\n",
        "        else:\n",
        "            print(\"Invalid withdrawal amount or insufficient Balance.\")\n",
        "\n",
        "def atm_session():\n",
        "    atm = ATM()\n",
        "\n",
        "    def get_pin():\n",
        "        pin = input(\"Enter your PIN: \")\n",
        "        return pin == atm.pin\n",
        "\n",
        "    while True:\n",
        "        print(\"\\nATM Menu:\")\n",
        "        print(\"1. Check Balance\")\n",
        "        print(\"2. Deposit\")\n",
        "        print(\"3. Withdraw\")\n",
        "        print(\"4. Exit\")\n",
        "\n",
        "        choice = input(\"Enter choice (1-4): \")\n",
        "\n",
        "        if choice == \"1\":\n",
        "            atm.display_balance()\n",
        "        elif choice == \"2\":\n",
        "            if get_pin():\n",
        "                amount = float(input(\"Enter deposit amount: \"))\n",
        "                atm.deposit(amount)\n",
        "            else:\n",
        "                print(\"Invalid PIN.\")\n",
        "        elif choice == \"3\":\n",
        "            if get_pin():\n",
        "                amount = float(input(\"Enter withdrawal amount: \"))\n",
        "                atm.withdraw(amount)\n",
        "            else:\n",
        "                print(\"Invalid PIN.Try Again\")\n",
        "        elif choice == \"4\":\n",
        "            print(\"Thank you for using ATM Machine!\")\n",
        "            break\n",
        "        else:\n",
        "            print(\"Invalid choice. Try again.\")\n",
        "\n",
        "atm_session()"
      ],
      "metadata": {
        "colab": {
          "base_uri": "https://localhost:8080/"
        },
        "id": "nhQ0bExeXZAj",
        "outputId": "81839766-0ad3-4ae7-c49d-e2d99aa41a49"
      },
      "execution_count": 4,
      "outputs": [
        {
          "output_type": "stream",
          "name": "stdout",
          "text": [
            "\n",
            "ATM Menu:\n",
            "1. Check Balance\n",
            "2. Deposit\n",
            "3. Withdraw\n",
            "4. Exit\n",
            "Enter choice (1-4): 1\n",
            "Your balance: Rs 5000\n",
            "\n",
            "ATM Menu:\n",
            "1. Check Balance\n",
            "2. Deposit\n",
            "3. Withdraw\n",
            "4. Exit\n",
            "Enter choice (1-4): 2\n",
            "Enter your PIN: 1234\n",
            "Enter deposit amount: 50000\n",
            "Deposited Rs 50000.0. New balance: Rs 55000.0\n",
            "\n",
            "ATM Menu:\n",
            "1. Check Balance\n",
            "2. Deposit\n",
            "3. Withdraw\n",
            "4. Exit\n",
            "Enter choice (1-4): 3\n",
            "Enter your PIN: 1234\n",
            "Enter withdrawal amount: 3000\n",
            "Withdrew Rs 3000.0. New balance: Rs 52000.0\n",
            "\n",
            "ATM Menu:\n",
            "1. Check Balance\n",
            "2. Deposit\n",
            "3. Withdraw\n",
            "4. Exit\n",
            "Enter choice (1-4): 4\n",
            "Thank you for using ATM Machine!\n"
          ]
        }
      ]
    }
  ]
}