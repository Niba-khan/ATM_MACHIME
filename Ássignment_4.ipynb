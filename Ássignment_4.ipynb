{
  "nbformat": 4,
  "nbformat_minor": 0,
  "metadata": {
    "colab": {
      "provenance": [],
      "authorship_tag": "ABX9TyPtMss6IxLdaS5ne+XiYrUA",
      "include_colab_link": true
    },
    "kernelspec": {
      "name": "python3",
      "display_name": "Python 3"
    },
    "language_info": {
      "name": "python"
    }
  },
  "cells": [
    {
      "cell_type": "markdown",
      "metadata": {
        "id": "view-in-github",
        "colab_type": "text"
      },
      "source": [
        "<a href=\"https://colab.research.google.com/github/Niba-khan/ATM_MACHIME/blob/main/%C3%81ssignment_4.ipynb\" target=\"_parent\"><img src=\"https://colab.research.google.com/assets/colab-badge.svg\" alt=\"Open In Colab\"/></a>"
      ]
    },
    {
      "cell_type": "markdown",
      "source": [
        "# **Assignment 4:**\n",
        "\n",
        "# *1-List Methods Practice:*\n",
        "\n",
        "#                    **Task:**"
      ],
      "metadata": {
        "id": "0YaqNqt3nfZ6"
      }
    },
    {
      "cell_type": "markdown",
      "source": [
        "# **01-Create and Modify Lists :**\n",
        "\n",
        "*o Create a list called fruits with the items: \"apple\", \"banana\", \"orange\"\n",
        "\n",
        "o Add \"grape\" to the end of the list using an appropriate method\n",
        "\n",
        "o Insert \"mango\" at position 2 in the list\n",
        "\n",
        "o Remove \"banana\" from the list\n",
        "\n",
        "o Print the final list*\n",
        "\n",
        "\n",
        "\n",
        "\n"
      ],
      "metadata": {
        "id": "rMJijpmLxy7q"
      }
    },
    {
      "cell_type": "code",
      "source": [
        "#01-. Create and Modify Lists :\n",
        "\n",
        "my_fruits = [\"apple\", \"banana\", \"orange\"]\n",
        "my_fruits.append(\"grape\")\n",
        "my_fruits.insert(2, \"mango\")\n",
        "my_fruits.remove(\"banana\")\n",
        "\n",
        "print(\"Final list of My fruits:\", my_fruits)"
      ],
      "metadata": {
        "id": "-3H6oftkoO-C",
        "colab": {
          "base_uri": "https://localhost:8080/"
        },
        "outputId": "1e420358-c534-4ba7-8b93-70bff9db1277"
      },
      "execution_count": null,
      "outputs": [
        {
          "output_type": "stream",
          "name": "stdout",
          "text": [
            "Final list of My fruits: ['apple', 'mango', 'orange', 'grape']\n"
          ]
        }
      ]
    },
    {
      "cell_type": "markdown",
      "source": [
        "# ***2. List Operations  ***\n",
        "\n",
        "*o Create a list numbers with values: 10, 20, 30, 40, 50\n",
        "\n",
        "o Create a second list more_numbers with values: 60, 70, 80\n",
        "\n",
        "o Combine both lists into a new list called all_numbers\n",
        "\n",
        "o Make a copy of all_numbers called numbers_copy\n",
        "\n",
        "o Reverse the order of numbers_copy\n",
        "\n",
        "o Print both all_numbers and numbers_copy *"
      ],
      "metadata": {
        "id": "LTWT_CPSGYYG"
      }
    },
    {
      "cell_type": "code",
      "source": [
        "#2- List Operations:\n",
        "\n",
        "list_numbers = [10, 20, 30, 40, 50]\n",
        "\n",
        "second_list = [60, 70, 80]\n",
        "\n",
        "new_list = list_numbers + second_list\n",
        "\n",
        "numbers_copy = new_list.copy()\n",
        "\n",
        "numbers_copy.reverse()\n",
        "\n",
        "print(\"All Numbers:\", new_list)\n",
        "print(\"Reversed Copy:\", numbers_copy)\n",
        "\n"
      ],
      "metadata": {
        "colab": {
          "base_uri": "https://localhost:8080/"
        },
        "id": "OZVq4gTCxsaw",
        "outputId": "ffb8103c-ddc2-4c21-f0ef-a14175b3a1b8"
      },
      "execution_count": null,
      "outputs": [
        {
          "output_type": "stream",
          "name": "stdout",
          "text": [
            "All Numbers: [10, 20, 30, 40, 50, 60, 70, 80]\n",
            "Reversed Copy: [80, 70, 60, 50, 40, 30, 20, 10]\n"
          ]
        }
      ]
    },
    {
      "cell_type": "markdown",
      "source": [
        "# ***3. Sorting and Counting  ***\n",
        "\n",
        "*o Create a list scores with these values: 85, 92, 78, 65, 92, 85, 74\n",
        "\n",
        "o Sort the list in ascending order\n",
        "\n",
        "o Sort the list in descending order\n",
        "\n",
        "o Count how many times 92 appears in the list\n",
        "\n",
        "o Find and print the highest and lowest scores\n",
        "\n",
        "o Print the sorted list *"
      ],
      "metadata": {
        "id": "HzdbOtmfHb1X"
      }
    },
    {
      "cell_type": "code",
      "source": [
        "#3. Sorting and Counting:\n",
        "\n",
        "list_scores = [85, 92, 78, 65, 92, 85, 74]\n",
        "\n",
        "list_scores.sort()\n",
        "\n",
        "list_scores.sort(reverse=True)\n",
        "\n",
        "count_92 = list_scores.count(92)\n",
        "\n",
        "highest_score = max(list_scores)\n",
        "lowest_score = min(list_scores)\n",
        "\n",
        "print(\"Sorted list in descending order:\", list_scores)\n",
        "print(\"Number of times 92 appears:\", count_92)\n",
        "print(\"Highest score:\", highest_score)\n",
        "print(\"Lowest score:\", lowest_score)"
      ],
      "metadata": {
        "colab": {
          "base_uri": "https://localhost:8080/"
        },
        "id": "ZS54wlDzHuJF",
        "outputId": "8fb7ce5e-4250-47c4-f64b-19cb6d807921"
      },
      "execution_count": null,
      "outputs": [
        {
          "output_type": "stream",
          "name": "stdout",
          "text": [
            "Sorted list in descending order: [92, 92, 85, 85, 78, 74, 65]\n",
            "Number of times 92 appears: 2\n",
            "Highest score: 92\n",
            "Lowest score: 65\n"
          ]
        }
      ]
    },
    {
      "cell_type": "markdown",
      "source": [
        "# ***4-List Manipulation  ***\n",
        "\n",
        "*o Create a list letters with values: \"a\", \"b\", \"c\", \"d\", \"e\"\n",
        "\n",
        "o Use slicing to create a new list with only the first three letters\n",
        "\n",
        "o Use slicing to create another list with only the last two letters\n",
        "\n",
        "o Find and print the index of \"c\" in the list\n",
        "\n",
        "o Replace \"d\" with \"z\" in the original list\n",
        "\n",
        "o Print the modified list *"
      ],
      "metadata": {
        "id": "5uM83w3MI8u0"
      }
    },
    {
      "cell_type": "code",
      "source": [
        "#4-List Manipulation\n",
        "\n",
        "letters = [\"a\", \"b\", \"c\", \"d\", \"e\"]\n",
        "\n",
        "first_three_letters = letters[:3]\n",
        "\n",
        "last_two_letters = letters[-2:]\n",
        "\n",
        "index_of_c = letters.index(\"c\")\n",
        "\n",
        "letters[letters.index(\"d\")] = \"z\"\n",
        "\n",
        "print(\"Modified list:\", letters)\n",
        "print(\"First three letters:\", first_three_letters)\n",
        "print(\"Last two letters:\", last_two_letters)\n",
        "print(\"Index of 'c':\", index_of_c)"
      ],
      "metadata": {
        "colab": {
          "base_uri": "https://localhost:8080/"
        },
        "id": "-emQG4lNJRKN",
        "outputId": "ad538f82-ef93-4e56-cb16-6b560376bcd4"
      },
      "execution_count": null,
      "outputs": [
        {
          "output_type": "stream",
          "name": "stdout",
          "text": [
            "Modified list: ['a', 'b', 'c', 'z', 'e']\n",
            "First three letters: ['a', 'b', 'c']\n",
            "Last two letters: ['d', 'e']\n",
            "Index of 'c': 2\n"
          ]
        }
      ]
    },
    {
      "cell_type": "markdown",
      "source": [
        "# ***02: Dictionary Methods Practice ***\n",
        "\n",
        "# *Task:*"
      ],
      "metadata": {
        "id": "Azrcl6qyAsLt"
      }
    },
    {
      "cell_type": "markdown",
      "source": [
        "# *  **1. Create and Access Dictionaries**\n",
        "o Create a dictionary called student with these key-value pairs:\n",
        "\n",
        " \"name\": \"John\"\n",
        "\n",
        " \"age\": 20\n",
        "\n",
        " \"grade\": \"A\"\n",
        "\n",
        " \"courses\": [\"Math\", \"Science\", \"History\"]\n",
        "\n",
        "o Print the student's name\n",
        "\n",
        "o Print the list of courses\n",
        "\n",
        "o Add a new key-value pair: \"email\": \"john@example.com\"\n",
        "\n",
        "o Print the entire dictionary *\n"
      ],
      "metadata": {
        "id": "HPN5YJglBAew"
      }
    },
    {
      "cell_type": "code",
      "source": [
        "#1. Create and Access Dictionaries:\n",
        "\n",
        "student = {\n",
        "    \"name\": \"John\",\n",
        "    \"age\": 20,\n",
        "    \"grade\": \"A\",\n",
        "    \"courses\": [\"Math\", \"Science\", \"History\"]\n",
        "}\n",
        "\n",
        "print(\"Student's Name:\", student[\"name\"])\n",
        "print(\"List of Courses:\", student[\"courses\"])\n",
        "student[\"email\"] = \"john@example.com\"\n",
        "print(\"Updated Student Dictionary:\", student)"
      ],
      "metadata": {
        "colab": {
          "base_uri": "https://localhost:8080/"
        },
        "id": "7nqUww9ABZB-",
        "outputId": "45d244ae-14e4-45bf-8651-bd5b8aa666cc"
      },
      "execution_count": null,
      "outputs": [
        {
          "output_type": "stream",
          "name": "stdout",
          "text": [
            "Student's Name: John\n",
            "List of Courses: ['Math', 'Science', 'History']\n",
            "Updated Student Dictionary: {'name': 'John', 'age': 20, 'grade': 'A', 'courses': ['Math', 'Science', 'History'], 'email': 'john@example.com'}\n"
          ]
        }
      ]
    },
    {
      "cell_type": "markdown",
      "source": [
        "# ***2. Modify Dictionary Values: ***\n",
        "*o Change the student's age to 21\n",
        "\n",
        "o Add a new course \"Computer Science\" to the courses list\n",
        "\n",
        "o Update the grade to \"A+\"\n",
        "\n",
        "o Print the modified dictionary *"
      ],
      "metadata": {
        "id": "wPKNtvZpua8s"
      }
    },
    {
      "cell_type": "code",
      "source": [
        "#2. Modify Dictionary Values:\n",
        "\n",
        "student = {\n",
        "    \"name\": \"John\",\n",
        "    \"age\": 20,\n",
        "    \"grade\": \"A\",\n",
        "    \"courses\": [\"Math\", \"Science\", \"History\"]\n",
        "}\n",
        "\n",
        "student[\"age\"] = 21\n",
        "\n",
        "student[\"courses\"].append(\"Computer Science\")\n",
        "\n",
        "student[\"grade\"] = \"A+\"\n",
        "\n",
        "print(student)\n"
      ],
      "metadata": {
        "colab": {
          "base_uri": "https://localhost:8080/"
        },
        "id": "JKvedu8muovC",
        "outputId": "d2c2f071-3af1-4409-f5e6-7ac11138244c"
      },
      "execution_count": null,
      "outputs": [
        {
          "output_type": "stream",
          "name": "stdout",
          "text": [
            "{'name': 'John', 'age': 21, 'grade': 'A+', 'courses': ['Math', 'Science', 'History', 'Computer Science']}\n"
          ]
        }
      ]
    },
    {
      "cell_type": "markdown",
      "source": [
        "# ***3. Dictionary Operations:***\n",
        "\n",
        "*o Create a second dictionary student_address with these key-value pairs:  \n",
        "\n",
        " \"street\": \"123 College Ave\"\n",
        "\n",
        " \"city\": \"New York\"\n",
        "\n",
        " \"zip\": \"10001\"\n",
        "\n",
        "o Combine both dictionaries into a new dictionary called student_info\n",
        "\n",
        "o Remove the \"zip\" key from student_info\n",
        "\n",
        "o Check if \"phone\" exists in the dictionary\n",
        "\n",
        "o Print the final dictionary*"
      ],
      "metadata": {
        "id": "fsbo-UUlvC3Q"
      }
    },
    {
      "cell_type": "code",
      "source": [
        "#3. Dictionary Operations:\n",
        "\n",
        "student_address = {\n",
        "    \"street\": \"123 College Ave\",\n",
        "    \"city\": \"New York\",\n",
        "    \"zip\": \"10001\"\n",
        "}\n",
        "student_info = student.copy()\n",
        "student_info.update(student_address)\n",
        "student_info.pop(\"zip\")\n",
        "print(student_info)\n",
        "print(\"phone\" in student_info)"
      ],
      "metadata": {
        "colab": {
          "base_uri": "https://localhost:8080/"
        },
        "id": "IIo-3EzJvTep",
        "outputId": "4cc3d2ce-6633-4449-d977-7e5de54cad8d"
      },
      "execution_count": null,
      "outputs": [
        {
          "output_type": "stream",
          "name": "stdout",
          "text": [
            "{'name': 'John', 'age': 21, 'grade': 'A+', 'courses': ['Math', 'Science', 'History', 'Computer Science'], 'street': '123 College Ave', 'city': 'New York'}\n",
            "False\n"
          ]
        }
      ]
    },
    {
      "cell_type": "markdown",
      "source": [
        "# ***4. Dictionary Methods:***\n",
        "\n",
        "*o Create a dictionary word_count with these key-value pairs:  \n",
        "\n",
        " \"hello\": 5\n",
        "\n",
        " \"world\": 10\n",
        "\n",
        " \"python\": 15\n",
        "\n",
        "o Get all keys and print them as a list\n",
        "\n",
        "o Get all values and print them as a list\n",
        "\n",
        "o Get all key-value pairs and print them\n",
        "\n",
        "o Make a copy of the dictionary\n",
        "\n",
        "o Clear the original dictionary\n",
        "\n",
        "o Print both dictionaries to verify one is empty and one is a copy*\n"
      ],
      "metadata": {
        "id": "1sODwzwZej5H"
      }
    },
    {
      "cell_type": "code",
      "source": [
        "#4. Dictionary Methods:\n",
        "\n",
        "word_count = {\n",
        "    \"hello\": 5,\n",
        "    \"world\": 10,\n",
        "    \"python\": 15\n",
        "}\n",
        "\n",
        "print(list(word_count.keys()))\n",
        "\n",
        "print(list(word_count.values()))\n",
        "\n",
        "print(word_count)\n",
        "\n",
        "word_copy = word_count.copy()\n",
        "\n",
        "word_count.clear()\n",
        "\n",
        "print(\"Word_count list\", word_count)\n",
        "\n",
        "print(\"Word_count list Copy\", word_copy)\n"
      ],
      "metadata": {
        "colab": {
          "base_uri": "https://localhost:8080/"
        },
        "id": "Ux0DYx_Pe2N4",
        "outputId": "79c7e9fe-c93a-4237-9975-17325d1da660"
      },
      "execution_count": null,
      "outputs": [
        {
          "output_type": "stream",
          "name": "stdout",
          "text": [
            "['hello', 'world', 'python']\n",
            "[5, 10, 15]\n",
            "{'hello': 5, 'world': 10, 'python': 15}\n",
            "Word_count list {}\n",
            "Word_count list Copy {'hello': 5, 'world': 10, 'python': 15}\n"
          ]
        }
      ]
    },
    {
      "cell_type": "markdown",
      "source": [
        "# **For Loop Assignment - Number Patterns:**\n",
        "\n",
        "# **1. Pattern 1: Counting**  \n",
        "o Print numbers from 1 to 10 on a single line.\n",
        "# ***Pattern 2: Multiplication Table ***\n",
        " Create a multiplication table for the number 5 (from 1 to 10). *"
      ],
      "metadata": {
        "id": "FJ-mJgf6pnpg"
      }
    },
    {
      "cell_type": "code",
      "source": [
        "\n",
        "# Pattern 1: Counting Numbers\n",
        "for i in range(1, 11):\n",
        "    print(i, end=\" \")\n",
        "\n",
        "# Pattern 2: Multiplication Table for number 5\n",
        "number = 5\n",
        "for i in range(1, 11):\n",
        "    print(f\"{number} x {i} = {number * i}\")\n"
      ],
      "metadata": {
        "colab": {
          "base_uri": "https://localhost:8080/"
        },
        "id": "9m-wjiLfpn5m",
        "outputId": "1576dd5c-f4ec-4740-fb32-db55c6849fe5"
      },
      "execution_count": null,
      "outputs": [
        {
          "output_type": "stream",
          "name": "stdout",
          "text": [
            "1 2 3 4 5 6 7 8 9 10 5 x 1 = 5\n",
            "5 x 2 = 10\n",
            "5 x 3 = 15\n",
            "5 x 4 = 20\n",
            "5 x 5 = 25\n",
            "5 x 6 = 30\n",
            "5 x 7 = 35\n",
            "5 x 8 = 40\n",
            "5 x 9 = 45\n",
            "5 x 10 = 50\n"
          ]
        }
      ]
    },
    {
      "cell_type": "markdown",
      "source": [
        "# ***While Loop Assignment - Interactive Game ***\n",
        "\n",
        "*Write a Python program that:\n",
        "1. Sets a \"secret number\" (you can choose any number between 1 and 50)\n",
        "2. Asks the player to guess the number\n",
        "3. Tells the player if their guess is too high or too low\n",
        "4. Keeps asking until the player guesses correctly\n",
        "5. Keeps track of how many guesses it took*"
      ],
      "metadata": {
        "id": "m8BZgnNUqV_t"
      }
    },
    {
      "cell_type": "code",
      "source": [
        "#While Loop Assignment - Interactive Game\n",
        "\n",
        "import random\n",
        "\n",
        "secret = random.randint(1, 50)\n",
        "count = 0\n",
        "\n",
        "print(\"Guess a number between 1 and 50\")\n",
        "\n",
        "while True:\n",
        "    guess = int(input(\"Your guess: \"))\n",
        "    count = count + 1\n",
        "\n",
        "    if guess < secret:\n",
        "        print(\"Too low!\")\n",
        "    elif guess > secret:\n",
        "        print(\"Too high!\")\n",
        "    else:\n",
        "        print(\"Correct! You guessed it in\", count, \"tries.\")\n",
        "        break"
      ],
      "metadata": {
        "colab": {
          "base_uri": "https://localhost:8080/"
        },
        "id": "yE-EqZ98qWNc",
        "outputId": "7b7d1ae2-949b-4d1b-f50f-1a210a9dd163"
      },
      "execution_count": null,
      "outputs": [
        {
          "name": "stdout",
          "output_type": "stream",
          "text": [
            "Guess a number between 1 and 50\n",
            "Your guess: 5\n"
          ]
        }
      ]
    },
    {
      "cell_type": "markdown",
      "source": [
        "** Shopping Discount Calculator **\n",
        "\n",
        "*Tasks\n",
        "1. Set up the initial variables:  \n",
        "o purchase_amount: The total cost of items in the shopping cart\n",
        "o is_loyalty_member: Boolean (True/False) indicating if the customer is a\n",
        "loyalty member\n",
        "o day_of_week: A string with the current day (e.g., \"Monday\", \"Tuesday\", etc.)\n",
        "o is_holiday_season: Boolean indicating if it's currently a holiday shopping\n",
        "season\n",
        "2. Apply discount rules using if statements:  \n",
        "o If purchase amount is greater than $100, apply a 10% discount\n",
        "o If purchase amount is greater than $50 (but less than or equal to $100),\n",
        "apply a 5% discount\n",
        "o If the customer is a loyalty member, apply an additional 5% discount\n",
        "o If it's a weekend (Saturday or Sunday), apply an additional 2% discount\n",
        "o If it's a holiday season, apply an additional 8% discount\n",
        "3. Calculate and display:  \n",
        "o The original purchase amount\n",
        "o Each discount that was applied and its amount\n",
        "o The final price after all discounts*\n"
      ],
      "metadata": {
        "id": "EjJnp-KgBD4l"
      }
    },
    {
      "cell_type": "code",
      "source": [
        "#Shopping Discount Calculator\n",
        "\n",
        "cost = 120\n",
        "is_member = True\n",
        "today = \"Saturday\"\n",
        "is_holiday = True\n",
        "\n",
        "applied_discounts = []\n",
        "total_deduction = 0\n",
        "price_after_discounts = cost\n",
        "\n",
        "if cost > 100:\n",
        "    discount_amount = price_after_discounts * 0.10\n",
        "    applied_discounts.append((\"Large Discount\", discount_amount))\n",
        "    total_deduction += discount_amount\n",
        "    price_after_discounts -= discount_amount\n",
        "\n",
        "elif cost > 50:\n",
        "    discount_amount = price_after_discounts * 0.05\n",
        "    applied_discounts.append((\"Medium Discount\", discount_amount))\n",
        "    total_deduction += discount_amount\n",
        "    price_after_discounts -= discount_amount\n",
        "\n",
        "if is_member:\n",
        "    discount_amount = price_after_discounts * 0.05\n",
        "    applied_discounts.append((\"Benefit\", discount_amount))\n",
        "    total_deduction += discount_amount\n",
        "    price_after_discounts -= discount_amount\n",
        "\n",
        "if today in [\"Saturday\", \"Sunday\"]:\n",
        "    discount_amount = price_after_discounts * 0.02\n",
        "    applied_discounts.append((\"Weekend Special discount\", discount_amount))\n",
        "    total_deduction += discount_amount\n",
        "    price_after_discounts -= discount_amount\n",
        "\n",
        "if is_holiday:\n",
        "    discount_amount = price_after_discounts * 0.08\n",
        "    applied_discounts.append((\"Savings\", discount_amount))\n",
        "    total_deduction += discount_amount\n",
        "    price_after_discounts -= discount_amount\n",
        "\n",
        "print(\"\\n Welcome to the Discount Calculator!\\n\")\n",
        "print(f\"Original Price: ${cost:.2f}\\n\")\n",
        "\n",
        "print(\"Discounts Applied:\")\n",
        "if not applied_discounts:\n",
        "    print(\"No discounts applied.\")\n",
        "else:\n",
        "    for label, amount in applied_discounts:\n",
        "        print(f\"- {label}: -${amount:.2f}\")\n",
        "\n",
        "print(f\"\\n Total Savings: ${total_deduction:.2f}\")\n",
        "print(f\"Final Amount Due: ${price_after_discounts:.2f}\")\n"
      ],
      "metadata": {
        "colab": {
          "base_uri": "https://localhost:8080/"
        },
        "id": "VCY6_gKSBFCE",
        "outputId": "62c7077a-357b-4a44-9c04-21b496ec7042"
      },
      "execution_count": null,
      "outputs": [
        {
          "output_type": "stream",
          "name": "stdout",
          "text": [
            "\n",
            " Welcome to the Discount Calculator!\n",
            "\n",
            "Original Price: $120.00\n",
            "\n",
            "Discounts Applied:\n",
            "- Large Discount: -$12.00\n",
            "- Benefit: -$5.40\n",
            "- Weekend Special discount: -$2.05\n",
            "- Savings: -$8.04\n",
            "\n",
            " Total Savings: $27.50\n",
            "Final Amount Due: $92.50\n"
          ]
        }
      ]
    },
    {
      "cell_type": "markdown",
      "source": [
        "# ***Student Grade Management System ***\n",
        "\n",
        "*Requirements:\n",
        "Create a Python program that does the following:\n",
        "1. Create a list to store information about students\n",
        "2. Each student should be represented as a dictionary with the following keys:  \n",
        "o name: The student's full name\n",
        "o id: A unique student ID number\n",
        "o grades: Another dictionary containing course names as keys and grades as\n",
        "values\n",
        "3. Your program should:  \n",
        "o Add at least 3 students to the list\n",
        "o Add grades for at least 3 courses for each student\n",
        "o Display all students with their grades\n",
        "o Calculate and display the average grade for each student\n",
        "o Find and display the student with the highest average grade\n",
        "o List all students with an average grade above 80\n",
        "o Calculate and display the average grade for a specific course\n",
        "o Add a new student to the system*"
      ],
      "metadata": {
        "id": "3xWiEFFeCUjw"
      }
    },
    {
      "cell_type": "code",
      "source": [
        "#Student Grade Management System\n",
        "\n",
        "def calculate_average(grades):\n",
        "    return sum(grades.values()) / len(grades) if grades else 0\n",
        "\n",
        "def display_student_grades(student):\n",
        "    print(f\"\\nStudent: {student['name']} (ID: {student['id']})\")\n",
        "    for course, grade in student['grades'].items():\n",
        "        print(f\"  {course}: {grade}\")\n",
        "    print(f\"  Average Grade: {calculate_average(student['grades']):.2f}\")\n",
        "\n",
        "def find_top_student(students):\n",
        "    if not students:\n",
        "        return None\n",
        "    return max(students, key=lambda student: calculate_average(student['grades']))\n",
        "\n",
        "def list_students_above_average(students, threshold):\n",
        "    return [\n",
        "        student for student in students\n",
        "        if calculate_average(student['grades']) > threshold\n",
        "    ]\n",
        "\n",
        "def calculate_course_average(students, course_name):\n",
        "    grades = [\n",
        "        student['grades'][course_name]\n",
        "        for student in students\n",
        "        if course_name in student['grades']\n",
        "    ]\n",
        "    return sum(grades) / len(grades) if grades else 0\n",
        "\n",
        "def add_new_student(students, name, student_id, grades):\n",
        "    new_student = {\"name\": name, \"id\": student_id, \"grades\": grades}\n",
        "    students.append(new_student)\n",
        "    return new_student\n",
        "\n",
        "def main():\n",
        "    students = [\n",
        "        {\n",
        "            \"name\": \"Niba\",\n",
        "            \"id\": 1001,\n",
        "            \"grades\": {\"Math\": 92, \"Science\": 88, \"History\": 95},\n",
        "        },\n",
        "        {\n",
        "            \"name\": \"Kinza\",\n",
        "            \"id\": 1002,\n",
        "            \"grades\": {\"Math\": 85, \"Science\": 92, \"History\": 89},\n",
        "        },\n",
        "        {\n",
        "            \"name\": \"Maha\",\n",
        "            \"id\": 1003,\n",
        "            \"grades\": {\"Math\": 90, \"Science\": 87, \"History\": 91},\n",
        "        },\n",
        "    ]\n",
        "\n",
        "    print(\"Student Details:\")\n",
        "    for student in students:\n",
        "        display_student_grades(student)\n",
        "\n",
        "    top_student = find_top_student(students)\n",
        "    print(\"\\n Top Performing Student \")\n",
        "    if top_student:\n",
        "        print(\n",
        "            f\"The top student is {top_student['name']} with an average grade of {calculate_average(top_student['grades']):.2f}\"\n",
        "        )\n",
        "    else:\n",
        "        print(\"No students found.\")\n",
        "\n",
        "    print(\"\\n Students with Average Grade Above 80\")\n",
        "    above_80_students = list_students_above_average(students, 80)\n",
        "    if above_80_students:\n",
        "        for student in above_80_students:\n",
        "            print(f\"{student['name']}: {calculate_average(student['grades']):.2f}\")\n",
        "    else:\n",
        "        print(\"No students found with an average grade above 80.\")\n",
        "\n",
        "    course_name = \"Math\"\n",
        "    course_average = calculate_course_average(students, course_name)\n",
        "    print(f\"\\nAverage Grade for {course_name}: {course_average:.2f}\")\n",
        "\n",
        "    new_student = add_new_student(students, \"Sukaina\", 1004, {\"Math\": 94, \"Science\": 91, \"History\": 90})\n",
        "    print(\"\\nNew Student Added:\")\n",
        "    print(f\"Added: {new_student['name']} (ID: {new_student['id']})\")\n",
        "\n",
        "if __name__ == \"__main__\":\n",
        "    main()\n"
      ],
      "metadata": {
        "id": "czfLagbRC7CZ",
        "colab": {
          "base_uri": "https://localhost:8080/"
        },
        "outputId": "c3ab8a81-0e14-4985-89a3-2f09719363aa"
      },
      "execution_count": null,
      "outputs": [
        {
          "output_type": "stream",
          "name": "stdout",
          "text": [
            "Student Details:\n",
            "\n",
            "Student: Niba (ID: 1001)\n",
            "  Math: 92\n",
            "  Science: 88\n",
            "  History: 95\n",
            "  Average Grade: 91.67\n",
            "\n",
            "Student: Kinza (ID: 1002)\n",
            "  Math: 85\n",
            "  Science: 92\n",
            "  History: 89\n",
            "  Average Grade: 88.67\n",
            "\n",
            "Student: Maha (ID: 1003)\n",
            "  Math: 90\n",
            "  Science: 87\n",
            "  History: 91\n",
            "  Average Grade: 89.33\n",
            "\n",
            " Top Performing Student \n",
            "The top student is Niba with an average grade of 91.67\n",
            "\n",
            " Students with Average Grade Above 80\n",
            "Niba: 91.67\n",
            "Kinza: 88.67\n",
            "Maha: 89.33\n",
            "\n",
            "Average Grade for Math: 89.00\n",
            "\n",
            "New Student Added:\n",
            "Added: Sukaina (ID: 1004)\n"
          ]
        }
      ]
    }
  ]
}